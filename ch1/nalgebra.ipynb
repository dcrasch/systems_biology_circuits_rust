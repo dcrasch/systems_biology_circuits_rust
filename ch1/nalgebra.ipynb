{
 "cells": [
  {
   "cell_type": "code",
   "execution_count": 2,
   "id": "06c0a53e",
   "metadata": {},
   "outputs": [],
   "source": [
    ":dep nalgebra\n",
    "extern crate nalgebra;"
   ]
  },
  {
   "cell_type": "code",
   "execution_count": 3,
   "id": "6e099bd0",
   "metadata": {},
   "outputs": [],
   "source": [
    "use nalgebra::Matrix;\n",
    "\n",
    "pub trait Showable {\n",
    "    fn evcxr_display(&self);\n",
    "}\n",
    "\n",
    "impl<T, R, C, S> Showable for Matrix<T, R, C, S>\n",
    "where\n",
    "    T: nalgebra::Scalar,\n",
    "    R: nalgebra::Dim,\n",
    "    C: nalgebra::Dim,\n",
    "    S: nalgebra::base::storage::Storage<T, R, C>,\n",
    "{\n",
    "    fn evcxr_display(&self) {\n",
    "        let v = self;\n",
    "        let (row_size, col_size) = v.shape();\n",
    "        let mut html = String::new();\n",
    "        html.push_str(\"<math>\");\n",
    "        html.push_str(\"<mrow>\");\n",
    "        html.push_str(\"<mo>[</mo>\");\n",
    "        html.push_str(\"<mtable>\");\n",
    "\n",
    "        for r in 0..row_size {\n",
    "            html.push_str(\"<mtr>\");\n",
    "            for c in 0..col_size {\n",
    "                html.push_str(&format!(\"<mtd><mn>{:?}</mn></mtd>\", v.index((r, c))));\n",
    "            }\n",
    "            html.push_str(\"</mtr>\");\n",
    "        }\n",
    "        html.push_str(\"</mtable>\");\n",
    "        html.push_str(\"<mo>]</mo>\");\n",
    "        html.push_str(\"</mrow>\");\n",
    "        html.push_str(\"</math>\"); \n",
    "        println!(\"EVCXR_BEGIN_CONTENT text/html\\n{}\\nEVCXR_END_CONTENT\", html);\n",
    "    }\n",
    "}"
   ]
  },
  {
   "cell_type": "code",
   "execution_count": 6,
   "id": "dfc69abf",
   "metadata": {},
   "outputs": [
    {
     "data": {
      "text/html": [
       "<math><mrow><mo>[</mo><mtable><mtr><mtd><mn>11</mn></mtd><mtd><mn>12</mn></mtd><mtd><mn>13</mn></mtd><mtd><mn>14</mn></mtd></mtr><mtr><mtd><mn>21</mn></mtd><mtd><mn>22</mn></mtd><mtd><mn>23</mn></mtd><mtd><mn>24</mn></mtd></mtr><mtr><mtd><mn>31</mn></mtd><mtd><mn>32</mn></mtd><mtd><mn>33</mn></mtd><mtd><mn>34</mn></mtd></mtr></mtable><mo>]</mo></mrow></math>"
      ]
     },
     "execution_count": 6,
     "metadata": {},
     "output_type": "execute_result"
    }
   ],
   "source": [
    " let m = nalgebra::Matrix3x4::new(\n",
    "     11, 12, 13, 14, \n",
    "     21, 22, 23, 24, \n",
    "     31, 32, 33, 34);\n",
    "m"
   ]
  },
  {
   "cell_type": "code",
   "execution_count": 7,
   "id": "47a74442",
   "metadata": {},
   "outputs": [
    {
     "data": {
      "text/html": [
       "<math><mrow><mo>[</mo><mtable><mtr><mtd><mn>1</mn></mtd><mtd><mn>2</mn></mtd><mtd><mn>3</mn></mtd><mtd><mn>4</mn></mtd></mtr><mtr><mtd><mn>4</mn></mtd><mtd><mn>5</mn></mtd><mtd><mn>6</mn></mtd><mtd><mn>7</mn></mtd></mtr></mtable><mo>]</mo></mrow></math>"
      ]
     },
     "execution_count": 7,
     "metadata": {},
     "output_type": "execute_result"
    }
   ],
   "source": [
    "use nalgebra::matrix;\n",
    "\n",
    "matrix!(1,2,3,4;\n",
    "4,5,6,7)"
   ]
  },
  {
   "cell_type": "code",
   "execution_count": null,
   "id": "ce35920e",
   "metadata": {},
   "outputs": [],
   "source": []
  }
 ],
 "metadata": {
  "kernelspec": {
   "display_name": "Rust",
   "language": "rust",
   "name": "rust"
  },
  "language_info": {
   "codemirror_mode": "rust",
   "file_extension": ".rs",
   "mimetype": "text/rust",
   "name": "Rust",
   "pygment_lexer": "rust",
   "version": ""
  }
 },
 "nbformat": 4,
 "nbformat_minor": 5
}
